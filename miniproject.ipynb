{
  "nbformat": 4,
  "nbformat_minor": 0,
  "metadata": {
    "colab": {
      "provenance": []
    },
    "kernelspec": {
      "name": "python3",
      "display_name": "Python 3"
    },
    "language_info": {
      "name": "python"
    }
  },
  "cells": [
    {
      "cell_type": "code",
      "execution_count": null,
      "metadata": {
        "colab": {
          "base_uri": "https://localhost:8080/"
        },
        "id": "WxHkuIKE8twR",
        "outputId": "d9c63c99-7f79-4abd-ec10-ac0a78cf1c1c"
      },
      "outputs": [
        {
          "output_type": "stream",
          "name": "stdout",
          "text": [
            "=========>STUDENT GRADE TRACKER<=============\n",
            "1. add student\n",
            "2. update marks\n",
            "3. delete student\n",
            "4. show all students\n",
            "5. show topper\n",
            "6. exit\n",
            "enter a number 1 to 61\n",
            "enter student namekoushik\n",
            "enter marks98\n",
            "koushik added with98marks\n",
            "=========>STUDENT GRADE TRACKER<=============\n",
            "1. add student\n",
            "2. update marks\n",
            "3. delete student\n",
            "4. show all students\n",
            "5. show topper\n",
            "6. exit\n",
            "enter a number 1 to 61\n",
            "enter student nameram\n",
            "enter marks95\n",
            "ram added with95marks\n",
            "=========>STUDENT GRADE TRACKER<=============\n",
            "1. add student\n",
            "2. update marks\n",
            "3. delete student\n",
            "4. show all students\n",
            "5. show topper\n",
            "6. exit\n",
            "enter a number 1 to 64\n",
            "student records\n",
            "koushik:98 marks\n",
            "ram:95 marks\n",
            "=========>STUDENT GRADE TRACKER<=============\n",
            "1. add student\n",
            "2. update marks\n",
            "3. delete student\n",
            "4. show all students\n",
            "5. show topper\n",
            "6. exit\n"
          ]
        }
      ],
      "source": [
        "# students grade tracker\n",
        "\n",
        "students={}\n",
        "\n",
        "while True:\n",
        "    print(\"=========>STUDENT GRADE TRACKER<=============\")\n",
        "    print(\"1. add student\")\n",
        "    print(\"2. update marks\")\n",
        "    print(\"3. delete student\")\n",
        "    print(\"4. show all students\")\n",
        "    print(\"5. show topper\")\n",
        "    print(\"6. exit\")\n",
        "\n",
        "    choice= input(\"enter a number 1 to 6\")\n",
        "\n",
        "    if choice==\"1\":\n",
        "        name=input(\"enter student name\")\n",
        "        marks=int(input(\"enter marks\"))\n",
        "        students[name]= marks\n",
        "        print(f\"{name} added with{marks}marks\")\n",
        "\n",
        "    elif choice==\"2\":\n",
        "        name=input(\"enter student name\")\n",
        "        if name in students:\n",
        "            new_marks=int(input(\"enter the new marks\"))\n",
        "            students[name]=new_marks\n",
        "            print(f\"the {name} has been updated by {new_marks} new marks\")\n",
        "        else:\n",
        "            print(\"student not found\")\n",
        "\n",
        "\n",
        "    elif choice==\"3\":\n",
        "        name=input(\"enter student name\")\n",
        "        if name in students:\n",
        "            del students[name]\n",
        "            print(f\"the student {name} has been removed\")\n",
        "        else:\n",
        "            print(\"student not found\")\n",
        "\n",
        "    elif choice==\"4\":\n",
        "        if students:\n",
        "            print(\"student records\")\n",
        "            for name,marks in students.items():\n",
        "                print(f\"{name}:{marks} marks\")\n",
        "        else:\n",
        "            print(\"no records found\")\n",
        "\n",
        "    elif choice==\"5\":\n",
        "        if students:\n",
        "            topper= max(students, key=students.get)\n",
        "            print(f\"topper:{topper} with{students[topper]} marks\")\n",
        "        else:\n",
        "            print(\"no students to evaluate\")\n",
        "\n",
        "    elif choice==\"6\":\n",
        "        print(\"exiting thankyou!\")\n",
        "        break\n",
        "    else:\n",
        "        print(\"invalid choice\")"
      ]
    }
  ]
}