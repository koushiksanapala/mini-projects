{
  "nbformat": 4,
  "nbformat_minor": 0,
  "metadata": {
    "colab": {
      "provenance": []
    },
    "kernelspec": {
      "name": "python3",
      "display_name": "Python 3"
    },
    "language_info": {
      "name": "python"
    }
  },
  "cells": [
    {
      "cell_type": "code",
      "source": [
        "import random\n",
        "\n",
        "secret_number = random.randint(1,100)\n",
        "\n",
        "while True:\n",
        "    guess= int(input(\"guess the number from 1 to 100:\"))\n",
        "\n",
        "    if guess>secret_number:\n",
        "        print(\"you'r closer! try again?\")\n",
        "    elif guess<secret_number:\n",
        "        print(\"you'r far from the number! try again?\")\n",
        "    else:\n",
        "        print(\"congrats! you've guessed it right!\")\n",
        "        break"
      ],
      "metadata": {
        "colab": {
          "base_uri": "https://localhost:8080/"
        },
        "id": "YcEYTyL097RX",
        "outputId": "0a0e5a40-8948-4dae-d32e-f84d7c2c7e30"
      },
      "execution_count": null,
      "outputs": [
        {
          "output_type": "stream",
          "name": "stdout",
          "text": [
            "guess the number from 1 to 100:57\n",
            "you'r closer! try again?\n",
            "guess the number from 1 to 100:55\n",
            "you'r closer! try again?\n",
            "guess the number from 1 to 100:52\n",
            "you'r closer! try again?\n",
            "guess the number from 1 to 100:49\n",
            "you'r far from the number! try again?\n",
            "guess the number from 1 to 100:57\n",
            "you'r closer! try again?\n",
            "guess the number from 1 to 100:69\n",
            "you'r closer! try again?\n",
            "guess the number from 1 to 100:71\n",
            "you'r closer! try again?\n",
            "guess the number from 1 to 100:75\n",
            "you'r closer! try again?\n",
            "guess the number from 1 to 100:79\n",
            "you'r closer! try again?\n",
            "guess the number from 1 to 100:81\n",
            "you'r closer! try again?\n",
            "guess the number from 1 to 100:83\n",
            "you'r closer! try again?\n",
            "guess the number from 1 to 100:85\n",
            "you'r closer! try again?\n",
            "guess the number from 1 to 100:89\n",
            "you'r closer! try again?\n",
            "guess the number from 1 to 100:90\n",
            "you'r closer! try again?\n",
            "guess the number from 1 to 100:98\n",
            "you'r closer! try again?\n",
            "guess the number from 1 to 100:100\n",
            "you'r closer! try again?\n",
            "guess the number from 1 to 100:99\n",
            "you'r closer! try again?\n"
          ]
        }
      ]
    }
  ]
}